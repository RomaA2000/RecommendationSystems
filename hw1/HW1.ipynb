{
  "nbformat": 4,
  "nbformat_minor": 0,
  "metadata": {
    "colab": {
      "name": "HW1.ipynb",
      "provenance": [],
      "collapsed_sections": [
        "unVe5V5gZf8g"
      ],
      "include_colab_link": true
    },
    "kernelspec": {
      "display_name": "Python 3",
      "language": "python",
      "name": "python3"
    },
    "language_info": {
      "codemirror_mode": {
        "name": "ipython",
        "version": 3
      },
      "file_extension": ".py",
      "mimetype": "text/x-python",
      "name": "python",
      "nbconvert_exporter": "python",
      "pygments_lexer": "ipython3",
      "version": "3.7.4"
    },
    "widgets": {
      "application/vnd.jupyter.widget-state+json": {
        "1f8e9421024349c6803203ac4df641d8": {
          "model_module": "@jupyter-widgets/controls",
          "model_name": "HBoxModel",
          "state": {
            "_view_name": "HBoxView",
            "_dom_classes": [],
            "_model_name": "HBoxModel",
            "_view_module": "@jupyter-widgets/controls",
            "_model_module_version": "1.5.0",
            "_view_count": null,
            "_view_module_version": "1.5.0",
            "box_style": "",
            "layout": "IPY_MODEL_6745c7ba081d4c3694e30f5cb7deaf53",
            "_model_module": "@jupyter-widgets/controls",
            "children": [
              "IPY_MODEL_b6bff0d2d0f84078a1b54ee75ac2cbf3",
              "IPY_MODEL_cde54be3096a44e8a086bb1e438bbde0"
            ]
          }
        },
        "6745c7ba081d4c3694e30f5cb7deaf53": {
          "model_module": "@jupyter-widgets/base",
          "model_name": "LayoutModel",
          "state": {
            "_view_name": "LayoutView",
            "grid_template_rows": null,
            "right": null,
            "justify_content": null,
            "_view_module": "@jupyter-widgets/base",
            "overflow": null,
            "_model_module_version": "1.2.0",
            "_view_count": null,
            "flex_flow": null,
            "width": null,
            "min_width": null,
            "border": null,
            "align_items": null,
            "bottom": null,
            "_model_module": "@jupyter-widgets/base",
            "top": null,
            "grid_column": null,
            "overflow_y": null,
            "overflow_x": null,
            "grid_auto_flow": null,
            "grid_area": null,
            "grid_template_columns": null,
            "flex": null,
            "_model_name": "LayoutModel",
            "justify_items": null,
            "grid_row": null,
            "max_height": null,
            "align_content": null,
            "visibility": null,
            "align_self": null,
            "height": null,
            "min_height": null,
            "padding": null,
            "grid_auto_rows": null,
            "grid_gap": null,
            "max_width": null,
            "order": null,
            "_view_module_version": "1.2.0",
            "grid_template_areas": null,
            "object_position": null,
            "object_fit": null,
            "grid_auto_columns": null,
            "margin": null,
            "display": null,
            "left": null
          }
        },
        "b6bff0d2d0f84078a1b54ee75ac2cbf3": {
          "model_module": "@jupyter-widgets/controls",
          "model_name": "FloatProgressModel",
          "state": {
            "_view_name": "ProgressView",
            "style": "IPY_MODEL_415e171f958143ce9f7b14930d2fc05f",
            "_dom_classes": [],
            "description": "100%",
            "_model_name": "FloatProgressModel",
            "bar_style": "success",
            "max": 100,
            "_view_module": "@jupyter-widgets/controls",
            "_model_module_version": "1.5.0",
            "value": 100,
            "_view_count": null,
            "_view_module_version": "1.5.0",
            "orientation": "horizontal",
            "min": 0,
            "description_tooltip": null,
            "_model_module": "@jupyter-widgets/controls",
            "layout": "IPY_MODEL_94006f396f5e433ab1e423e950ec26b0"
          }
        },
        "cde54be3096a44e8a086bb1e438bbde0": {
          "model_module": "@jupyter-widgets/controls",
          "model_name": "HTMLModel",
          "state": {
            "_view_name": "HTMLView",
            "style": "IPY_MODEL_9033ee7d5c3b4e18888f5af21be9076a",
            "_dom_classes": [],
            "description": "",
            "_model_name": "HTMLModel",
            "placeholder": "​",
            "_view_module": "@jupyter-widgets/controls",
            "_model_module_version": "1.5.0",
            "value": " 100/100 [00:15&lt;00:00,  6.51it/s, loss=0.0135]",
            "_view_count": null,
            "_view_module_version": "1.5.0",
            "description_tooltip": null,
            "_model_module": "@jupyter-widgets/controls",
            "layout": "IPY_MODEL_62709c8b3430473a8c38d546abdc7085"
          }
        },
        "415e171f958143ce9f7b14930d2fc05f": {
          "model_module": "@jupyter-widgets/controls",
          "model_name": "ProgressStyleModel",
          "state": {
            "_view_name": "StyleView",
            "_model_name": "ProgressStyleModel",
            "description_width": "initial",
            "_view_module": "@jupyter-widgets/base",
            "_model_module_version": "1.5.0",
            "_view_count": null,
            "_view_module_version": "1.2.0",
            "bar_color": null,
            "_model_module": "@jupyter-widgets/controls"
          }
        },
        "94006f396f5e433ab1e423e950ec26b0": {
          "model_module": "@jupyter-widgets/base",
          "model_name": "LayoutModel",
          "state": {
            "_view_name": "LayoutView",
            "grid_template_rows": null,
            "right": null,
            "justify_content": null,
            "_view_module": "@jupyter-widgets/base",
            "overflow": null,
            "_model_module_version": "1.2.0",
            "_view_count": null,
            "flex_flow": null,
            "width": null,
            "min_width": null,
            "border": null,
            "align_items": null,
            "bottom": null,
            "_model_module": "@jupyter-widgets/base",
            "top": null,
            "grid_column": null,
            "overflow_y": null,
            "overflow_x": null,
            "grid_auto_flow": null,
            "grid_area": null,
            "grid_template_columns": null,
            "flex": null,
            "_model_name": "LayoutModel",
            "justify_items": null,
            "grid_row": null,
            "max_height": null,
            "align_content": null,
            "visibility": null,
            "align_self": null,
            "height": null,
            "min_height": null,
            "padding": null,
            "grid_auto_rows": null,
            "grid_gap": null,
            "max_width": null,
            "order": null,
            "_view_module_version": "1.2.0",
            "grid_template_areas": null,
            "object_position": null,
            "object_fit": null,
            "grid_auto_columns": null,
            "margin": null,
            "display": null,
            "left": null
          }
        },
        "9033ee7d5c3b4e18888f5af21be9076a": {
          "model_module": "@jupyter-widgets/controls",
          "model_name": "DescriptionStyleModel",
          "state": {
            "_view_name": "StyleView",
            "_model_name": "DescriptionStyleModel",
            "description_width": "",
            "_view_module": "@jupyter-widgets/base",
            "_model_module_version": "1.5.0",
            "_view_count": null,
            "_view_module_version": "1.2.0",
            "_model_module": "@jupyter-widgets/controls"
          }
        },
        "62709c8b3430473a8c38d546abdc7085": {
          "model_module": "@jupyter-widgets/base",
          "model_name": "LayoutModel",
          "state": {
            "_view_name": "LayoutView",
            "grid_template_rows": null,
            "right": null,
            "justify_content": null,
            "_view_module": "@jupyter-widgets/base",
            "overflow": null,
            "_model_module_version": "1.2.0",
            "_view_count": null,
            "flex_flow": null,
            "width": null,
            "min_width": null,
            "border": null,
            "align_items": null,
            "bottom": null,
            "_model_module": "@jupyter-widgets/base",
            "top": null,
            "grid_column": null,
            "overflow_y": null,
            "overflow_x": null,
            "grid_auto_flow": null,
            "grid_area": null,
            "grid_template_columns": null,
            "flex": null,
            "_model_name": "LayoutModel",
            "justify_items": null,
            "grid_row": null,
            "max_height": null,
            "align_content": null,
            "visibility": null,
            "align_self": null,
            "height": null,
            "min_height": null,
            "padding": null,
            "grid_auto_rows": null,
            "grid_gap": null,
            "max_width": null,
            "order": null,
            "_view_module_version": "1.2.0",
            "grid_template_areas": null,
            "object_position": null,
            "object_fit": null,
            "grid_auto_columns": null,
            "margin": null,
            "display": null,
            "left": null
          }
        }
      }
    },
    "accelerator": "GPU"
  },
  "cells": [
    {
      "cell_type": "markdown",
      "metadata": {
        "id": "view-in-github",
        "colab_type": "text"
      },
      "source": [
        "<a href=\"https://colab.research.google.com/github/RomaA2000/RecommendationSystems/blob/main/hw1/HW1.ipynb\" target=\"_parent\"><img src=\"https://colab.research.google.com/assets/colab-badge.svg\" alt=\"Open In Colab\"/></a>"
      ]
    },
    {
      "cell_type": "markdown",
      "metadata": {
        "id": "jlhi2v2uZf8D"
      },
      "source": [
        "### Матричные факторизации"
      ]
    },
    {
      "cell_type": "markdown",
      "metadata": {
        "id": "H2ubYegjZf8T"
      },
      "source": [
        "В данной работе вам предстоит познакомиться с практической стороной матричных разложений.\n",
        "Работа поделена на 4 задания:\n",
        "1. Вам необходимо реализовать SVD разложения используя SGD на explicit данных\n",
        "2. Вам необходимо реализовать матричное разложения используя ALS на implicit данных\n",
        "3. Вам необходимо реализовать матричное разложения используя BPR(pair-wise loss) на implicit данных\n",
        "4. Вам необходимо реализовать матричное разложения используя WARP(list-wise loss) на implicit данных\n"
      ]
    },
    {
      "cell_type": "code",
      "metadata": {
        "colab": {
          "base_uri": "https://localhost:8080/"
        },
        "id": "A2Enze94dqHv",
        "outputId": "7bc0aa22-3653-40ff-dc60-35e36de68f66"
      },
      "source": [
        "from google.colab import drive\n",
        "drive.mount('/content/drive/')\n",
        " \n",
        "#Выбрать нужный путь до данных\n"
      ],
      "execution_count": 1,
      "outputs": [
        {
          "output_type": "stream",
          "text": [
            "Mounted at /content/drive/\n"
          ],
          "name": "stdout"
        }
      ]
    },
    {
      "cell_type": "code",
      "metadata": {
        "colab": {
          "base_uri": "https://localhost:8080/"
        },
        "id": "UxyzHojwe4c0",
        "outputId": "05549dcf-6f6b-4b88-9775-b8b4ebdf40b2"
      },
      "source": [
        "!pip install implicit\n",
        "!pip install lightfm"
      ],
      "execution_count": 2,
      "outputs": [
        {
          "output_type": "stream",
          "text": [
            "Collecting implicit\n",
            "\u001b[?25l  Downloading https://files.pythonhosted.org/packages/bc/07/c0121884722d16e2c5beeb815f6b84b41cbf22e738e4075f1475be2791bc/implicit-0.4.4.tar.gz (1.1MB)\n",
            "\r\u001b[K     |▎                               | 10kB 24.4MB/s eta 0:00:01\r\u001b[K     |▋                               | 20kB 30.3MB/s eta 0:00:01\r\u001b[K     |▉                               | 30kB 22.4MB/s eta 0:00:01\r\u001b[K     |█▏                              | 40kB 17.2MB/s eta 0:00:01\r\u001b[K     |█▌                              | 51kB 14.5MB/s eta 0:00:01\r\u001b[K     |█▊                              | 61kB 13.1MB/s eta 0:00:01\r\u001b[K     |██                              | 71kB 14.5MB/s eta 0:00:01\r\u001b[K     |██▍                             | 81kB 14.6MB/s eta 0:00:01\r\u001b[K     |██▋                             | 92kB 14.4MB/s eta 0:00:01\r\u001b[K     |███                             | 102kB 15.6MB/s eta 0:00:01\r\u001b[K     |███▎                            | 112kB 15.6MB/s eta 0:00:01\r\u001b[K     |███▌                            | 122kB 15.6MB/s eta 0:00:01\r\u001b[K     |███▉                            | 133kB 15.6MB/s eta 0:00:01\r\u001b[K     |████▏                           | 143kB 15.6MB/s eta 0:00:01\r\u001b[K     |████▍                           | 153kB 15.6MB/s eta 0:00:01\r\u001b[K     |████▊                           | 163kB 15.6MB/s eta 0:00:01\r\u001b[K     |█████                           | 174kB 15.6MB/s eta 0:00:01\r\u001b[K     |█████▎                          | 184kB 15.6MB/s eta 0:00:01\r\u001b[K     |█████▋                          | 194kB 15.6MB/s eta 0:00:01\r\u001b[K     |██████                          | 204kB 15.6MB/s eta 0:00:01\r\u001b[K     |██████▏                         | 215kB 15.6MB/s eta 0:00:01\r\u001b[K     |██████▌                         | 225kB 15.6MB/s eta 0:00:01\r\u001b[K     |██████▉                         | 235kB 15.6MB/s eta 0:00:01\r\u001b[K     |███████                         | 245kB 15.6MB/s eta 0:00:01\r\u001b[K     |███████▍                        | 256kB 15.6MB/s eta 0:00:01\r\u001b[K     |███████▊                        | 266kB 15.6MB/s eta 0:00:01\r\u001b[K     |████████                        | 276kB 15.6MB/s eta 0:00:01\r\u001b[K     |████████▎                       | 286kB 15.6MB/s eta 0:00:01\r\u001b[K     |████████▋                       | 296kB 15.6MB/s eta 0:00:01\r\u001b[K     |████████▉                       | 307kB 15.6MB/s eta 0:00:01\r\u001b[K     |█████████▏                      | 317kB 15.6MB/s eta 0:00:01\r\u001b[K     |█████████▌                      | 327kB 15.6MB/s eta 0:00:01\r\u001b[K     |█████████▊                      | 337kB 15.6MB/s eta 0:00:01\r\u001b[K     |██████████                      | 348kB 15.6MB/s eta 0:00:01\r\u001b[K     |██████████▍                     | 358kB 15.6MB/s eta 0:00:01\r\u001b[K     |██████████▋                     | 368kB 15.6MB/s eta 0:00:01\r\u001b[K     |███████████                     | 378kB 15.6MB/s eta 0:00:01\r\u001b[K     |███████████▏                    | 389kB 15.6MB/s eta 0:00:01\r\u001b[K     |███████████▌                    | 399kB 15.6MB/s eta 0:00:01\r\u001b[K     |███████████▉                    | 409kB 15.6MB/s eta 0:00:01\r\u001b[K     |████████████                    | 419kB 15.6MB/s eta 0:00:01\r\u001b[K     |████████████▍                   | 430kB 15.6MB/s eta 0:00:01\r\u001b[K     |████████████▊                   | 440kB 15.6MB/s eta 0:00:01\r\u001b[K     |█████████████                   | 450kB 15.6MB/s eta 0:00:01\r\u001b[K     |█████████████▎                  | 460kB 15.6MB/s eta 0:00:01\r\u001b[K     |█████████████▋                  | 471kB 15.6MB/s eta 0:00:01\r\u001b[K     |█████████████▉                  | 481kB 15.6MB/s eta 0:00:01\r\u001b[K     |██████████████▏                 | 491kB 15.6MB/s eta 0:00:01\r\u001b[K     |██████████████▌                 | 501kB 15.6MB/s eta 0:00:01\r\u001b[K     |██████████████▊                 | 512kB 15.6MB/s eta 0:00:01\r\u001b[K     |███████████████                 | 522kB 15.6MB/s eta 0:00:01\r\u001b[K     |███████████████▍                | 532kB 15.6MB/s eta 0:00:01\r\u001b[K     |███████████████▋                | 542kB 15.6MB/s eta 0:00:01\r\u001b[K     |████████████████                | 552kB 15.6MB/s eta 0:00:01\r\u001b[K     |████████████████▎               | 563kB 15.6MB/s eta 0:00:01\r\u001b[K     |████████████████▌               | 573kB 15.6MB/s eta 0:00:01\r\u001b[K     |████████████████▉               | 583kB 15.6MB/s eta 0:00:01\r\u001b[K     |█████████████████▏              | 593kB 15.6MB/s eta 0:00:01\r\u001b[K     |█████████████████▍              | 604kB 15.6MB/s eta 0:00:01\r\u001b[K     |█████████████████▊              | 614kB 15.6MB/s eta 0:00:01\r\u001b[K     |██████████████████              | 624kB 15.6MB/s eta 0:00:01\r\u001b[K     |██████████████████▎             | 634kB 15.6MB/s eta 0:00:01\r\u001b[K     |██████████████████▋             | 645kB 15.6MB/s eta 0:00:01\r\u001b[K     |███████████████████             | 655kB 15.6MB/s eta 0:00:01\r\u001b[K     |███████████████████▏            | 665kB 15.6MB/s eta 0:00:01\r\u001b[K     |███████████████████▌            | 675kB 15.6MB/s eta 0:00:01\r\u001b[K     |███████████████████▉            | 686kB 15.6MB/s eta 0:00:01\r\u001b[K     |████████████████████            | 696kB 15.6MB/s eta 0:00:01\r\u001b[K     |████████████████████▍           | 706kB 15.6MB/s eta 0:00:01\r\u001b[K     |████████████████████▊           | 716kB 15.6MB/s eta 0:00:01\r\u001b[K     |█████████████████████           | 727kB 15.6MB/s eta 0:00:01\r\u001b[K     |█████████████████████▎          | 737kB 15.6MB/s eta 0:00:01\r\u001b[K     |█████████████████████▋          | 747kB 15.6MB/s eta 0:00:01\r\u001b[K     |█████████████████████▉          | 757kB 15.6MB/s eta 0:00:01\r\u001b[K     |██████████████████████▏         | 768kB 15.6MB/s eta 0:00:01\r\u001b[K     |██████████████████████▍         | 778kB 15.6MB/s eta 0:00:01\r\u001b[K     |██████████████████████▊         | 788kB 15.6MB/s eta 0:00:01\r\u001b[K     |███████████████████████         | 798kB 15.6MB/s eta 0:00:01\r\u001b[K     |███████████████████████▎        | 808kB 15.6MB/s eta 0:00:01\r\u001b[K     |███████████████████████▋        | 819kB 15.6MB/s eta 0:00:01\r\u001b[K     |████████████████████████        | 829kB 15.6MB/s eta 0:00:01\r\u001b[K     |████████████████████████▏       | 839kB 15.6MB/s eta 0:00:01\r\u001b[K     |████████████████████████▌       | 849kB 15.6MB/s eta 0:00:01\r\u001b[K     |████████████████████████▉       | 860kB 15.6MB/s eta 0:00:01\r\u001b[K     |█████████████████████████       | 870kB 15.6MB/s eta 0:00:01\r\u001b[K     |█████████████████████████▍      | 880kB 15.6MB/s eta 0:00:01\r\u001b[K     |█████████████████████████▊      | 890kB 15.6MB/s eta 0:00:01\r\u001b[K     |██████████████████████████      | 901kB 15.6MB/s eta 0:00:01\r\u001b[K     |██████████████████████████▎     | 911kB 15.6MB/s eta 0:00:01\r\u001b[K     |██████████████████████████▋     | 921kB 15.6MB/s eta 0:00:01\r\u001b[K     |██████████████████████████▉     | 931kB 15.6MB/s eta 0:00:01\r\u001b[K     |███████████████████████████▏    | 942kB 15.6MB/s eta 0:00:01\r\u001b[K     |███████████████████████████▌    | 952kB 15.6MB/s eta 0:00:01\r\u001b[K     |███████████████████████████▊    | 962kB 15.6MB/s eta 0:00:01\r\u001b[K     |████████████████████████████    | 972kB 15.6MB/s eta 0:00:01\r\u001b[K     |████████████████████████████▍   | 983kB 15.6MB/s eta 0:00:01\r\u001b[K     |████████████████████████████▋   | 993kB 15.6MB/s eta 0:00:01\r\u001b[K     |█████████████████████████████   | 1.0MB 15.6MB/s eta 0:00:01\r\u001b[K     |█████████████████████████████▎  | 1.0MB 15.6MB/s eta 0:00:01\r\u001b[K     |█████████████████████████████▌  | 1.0MB 15.6MB/s eta 0:00:01\r\u001b[K     |█████████████████████████████▉  | 1.0MB 15.6MB/s eta 0:00:01\r\u001b[K     |██████████████████████████████▏ | 1.0MB 15.6MB/s eta 0:00:01\r\u001b[K     |██████████████████████████████▍ | 1.1MB 15.6MB/s eta 0:00:01\r\u001b[K     |██████████████████████████████▊ | 1.1MB 15.6MB/s eta 0:00:01\r\u001b[K     |███████████████████████████████ | 1.1MB 15.6MB/s eta 0:00:01\r\u001b[K     |███████████████████████████████▎| 1.1MB 15.6MB/s eta 0:00:01\r\u001b[K     |███████████████████████████████▋| 1.1MB 15.6MB/s eta 0:00:01\r\u001b[K     |████████████████████████████████| 1.1MB 15.6MB/s eta 0:00:01\r\u001b[K     |████████████████████████████████| 1.1MB 15.6MB/s \n",
            "\u001b[?25hRequirement already satisfied: numpy in /usr/local/lib/python3.7/dist-packages (from implicit) (1.19.5)\n",
            "Requirement already satisfied: scipy>=0.16 in /usr/local/lib/python3.7/dist-packages (from implicit) (1.4.1)\n",
            "Requirement already satisfied: tqdm>=4.27 in /usr/local/lib/python3.7/dist-packages (from implicit) (4.41.1)\n",
            "Building wheels for collected packages: implicit\n",
            "  Building wheel for implicit (setup.py) ... \u001b[?25l\u001b[?25hdone\n",
            "  Created wheel for implicit: filename=implicit-0.4.4-cp37-cp37m-linux_x86_64.whl size=3406364 sha256=ee877e88f533fdbc884d68fe337d1b5d2363d9830ec51d30758a64284390f4d1\n",
            "  Stored in directory: /root/.cache/pip/wheels/bf/d4/ec/fd4f622fcbefb7521f149905295b2c26adecb23af38aa28217\n",
            "Successfully built implicit\n",
            "Installing collected packages: implicit\n",
            "Successfully installed implicit-0.4.4\n",
            "Collecting lightfm\n",
            "\u001b[?25l  Downloading https://files.pythonhosted.org/packages/5e/fe/8864d723daa8e5afc74080ce510c30f7ad52facf6a157d4b42dec83dfab4/lightfm-1.16.tar.gz (310kB)\n",
            "\u001b[K     |████████████████████████████████| 317kB 13.0MB/s \n",
            "\u001b[?25hRequirement already satisfied: numpy in /usr/local/lib/python3.7/dist-packages (from lightfm) (1.19.5)\n",
            "Requirement already satisfied: scipy>=0.17.0 in /usr/local/lib/python3.7/dist-packages (from lightfm) (1.4.1)\n",
            "Requirement already satisfied: requests in /usr/local/lib/python3.7/dist-packages (from lightfm) (2.23.0)\n",
            "Requirement already satisfied: scikit-learn in /usr/local/lib/python3.7/dist-packages (from lightfm) (0.22.2.post1)\n",
            "Requirement already satisfied: idna<3,>=2.5 in /usr/local/lib/python3.7/dist-packages (from requests->lightfm) (2.10)\n",
            "Requirement already satisfied: certifi>=2017.4.17 in /usr/local/lib/python3.7/dist-packages (from requests->lightfm) (2020.12.5)\n",
            "Requirement already satisfied: urllib3!=1.25.0,!=1.25.1,<1.26,>=1.21.1 in /usr/local/lib/python3.7/dist-packages (from requests->lightfm) (1.24.3)\n",
            "Requirement already satisfied: chardet<4,>=3.0.2 in /usr/local/lib/python3.7/dist-packages (from requests->lightfm) (3.0.4)\n",
            "Requirement already satisfied: joblib>=0.11 in /usr/local/lib/python3.7/dist-packages (from scikit-learn->lightfm) (1.0.1)\n",
            "Building wheels for collected packages: lightfm\n",
            "  Building wheel for lightfm (setup.py) ... \u001b[?25l\u001b[?25hdone\n",
            "  Created wheel for lightfm: filename=lightfm-1.16-cp37-cp37m-linux_x86_64.whl size=706129 sha256=39e9deabe7e6a9080133d15bc125857dbdb3ca938424d3dca4ff2659d75474dc\n",
            "  Stored in directory: /root/.cache/pip/wheels/c6/64/d4/673c7277f71ac4c5ad4835b94708c01b653ef2d3aa78ef20aa\n",
            "Successfully built lightfm\n",
            "Installing collected packages: lightfm\n",
            "Successfully installed lightfm-1.16\n"
          ],
          "name": "stdout"
        }
      ]
    },
    {
      "cell_type": "code",
      "metadata": {
        "id": "RFGOhNU4Zf8V"
      },
      "source": [
        "import implicit\n",
        "import pandas as pd\n",
        "import numpy as np\n",
        "import scipy.sparse as sp\n",
        "import os\n",
        "import torch\n",
        "\n",
        "from lightfm.datasets import fetch_movielens"
      ],
      "execution_count": 3,
      "outputs": []
    },
    {
      "cell_type": "markdown",
      "metadata": {
        "id": "WB4tGNGjZf8W"
      },
      "source": [
        "В данной работе мы будем работать с explicit датасетом movieLens, в котором представленны пары user_id movie_id и rating выставленный пользователем фильму\n",
        "\n",
        "Скачать датасет можно по ссылке https://grouplens.org/datasets/movielens/1m/"
      ]
    },
    {
      "cell_type": "code",
      "metadata": {
        "id": "gl7qHwQkRDNZ"
      },
      "source": [
        "data_dir = 'RecSysHSE/ml-1m'"
      ],
      "execution_count": null,
      "outputs": []
    },
    {
      "cell_type": "code",
      "metadata": {
        "id": "pXsP-Ps1Zf8X"
      },
      "source": [
        "ratings = pd.read_csv(os.path.join(data_dir, 'ratings.dat'), delimiter='::', header=None, \n",
        "        names=['user_id', 'movie_id', 'rating', 'timestamp'], \n",
        "        usecols=['user_id', 'movie_id', 'rating'], engine='python')"
      ],
      "execution_count": 4,
      "outputs": []
    },
    {
      "cell_type": "code",
      "metadata": {
        "id": "v4RQROOOZf8X"
      },
      "source": [
        "movie_info = pd.read_csv(os.path.join(data_dir, 'movies.dat'), delimiter='::', header=None, \n",
        "        names=['movie_id', 'name', 'category'], engine='python')"
      ],
      "execution_count": 5,
      "outputs": []
    },
    {
      "cell_type": "markdown",
      "metadata": {
        "id": "uUthCFmaZf8X"
      },
      "source": [
        "Explicit данные"
      ]
    },
    {
      "cell_type": "markdown",
      "metadata": {
        "id": "MmCaDYlrZf8Y"
      },
      "source": [
        "Для того, чтобы преобразовать текущий датасет в Implicit, давайте считать что позитивная оценка это оценка >=4"
      ]
    },
    {
      "cell_type": "code",
      "metadata": {
        "id": "hjmRyaq6Zf8Y"
      },
      "source": [
        "implicit_ratings = ratings.loc[(ratings['rating'] >= 4)]"
      ],
      "execution_count": 6,
      "outputs": []
    },
    {
      "cell_type": "code",
      "metadata": {
        "colab": {
          "base_uri": "https://localhost:8080/",
          "height": 331
        },
        "id": "i1fc9Q_sZf8Z",
        "outputId": "7ce5d25d-6c98-44be-8009-cafe885bbc1e"
      },
      "source": [
        "implicit_ratings.head(10)"
      ],
      "execution_count": 7,
      "outputs": [
        {
          "output_type": "execute_result",
          "data": {
            "text/html": [
              "<div>\n",
              "<style scoped>\n",
              "    .dataframe tbody tr th:only-of-type {\n",
              "        vertical-align: middle;\n",
              "    }\n",
              "\n",
              "    .dataframe tbody tr th {\n",
              "        vertical-align: top;\n",
              "    }\n",
              "\n",
              "    .dataframe thead th {\n",
              "        text-align: right;\n",
              "    }\n",
              "</style>\n",
              "<table border=\"1\" class=\"dataframe\">\n",
              "  <thead>\n",
              "    <tr style=\"text-align: right;\">\n",
              "      <th></th>\n",
              "      <th>user_id</th>\n",
              "      <th>movie_id</th>\n",
              "      <th>rating</th>\n",
              "    </tr>\n",
              "  </thead>\n",
              "  <tbody>\n",
              "    <tr>\n",
              "      <th>0</th>\n",
              "      <td>1</td>\n",
              "      <td>1193</td>\n",
              "      <td>5</td>\n",
              "    </tr>\n",
              "    <tr>\n",
              "      <th>3</th>\n",
              "      <td>1</td>\n",
              "      <td>3408</td>\n",
              "      <td>4</td>\n",
              "    </tr>\n",
              "    <tr>\n",
              "      <th>4</th>\n",
              "      <td>1</td>\n",
              "      <td>2355</td>\n",
              "      <td>5</td>\n",
              "    </tr>\n",
              "    <tr>\n",
              "      <th>6</th>\n",
              "      <td>1</td>\n",
              "      <td>1287</td>\n",
              "      <td>5</td>\n",
              "    </tr>\n",
              "    <tr>\n",
              "      <th>7</th>\n",
              "      <td>1</td>\n",
              "      <td>2804</td>\n",
              "      <td>5</td>\n",
              "    </tr>\n",
              "    <tr>\n",
              "      <th>8</th>\n",
              "      <td>1</td>\n",
              "      <td>594</td>\n",
              "      <td>4</td>\n",
              "    </tr>\n",
              "    <tr>\n",
              "      <th>9</th>\n",
              "      <td>1</td>\n",
              "      <td>919</td>\n",
              "      <td>4</td>\n",
              "    </tr>\n",
              "    <tr>\n",
              "      <th>10</th>\n",
              "      <td>1</td>\n",
              "      <td>595</td>\n",
              "      <td>5</td>\n",
              "    </tr>\n",
              "    <tr>\n",
              "      <th>11</th>\n",
              "      <td>1</td>\n",
              "      <td>938</td>\n",
              "      <td>4</td>\n",
              "    </tr>\n",
              "    <tr>\n",
              "      <th>12</th>\n",
              "      <td>1</td>\n",
              "      <td>2398</td>\n",
              "      <td>4</td>\n",
              "    </tr>\n",
              "  </tbody>\n",
              "</table>\n",
              "</div>"
            ],
            "text/plain": [
              "    user_id  movie_id  rating\n",
              "0         1      1193       5\n",
              "3         1      3408       4\n",
              "4         1      2355       5\n",
              "6         1      1287       5\n",
              "7         1      2804       5\n",
              "8         1       594       4\n",
              "9         1       919       4\n",
              "10        1       595       5\n",
              "11        1       938       4\n",
              "12        1      2398       4"
            ]
          },
          "metadata": {
            "tags": []
          },
          "execution_count": 7
        }
      ]
    },
    {
      "cell_type": "markdown",
      "metadata": {
        "id": "QkbqurmoZf8Z"
      },
      "source": [
        "Удобнее работать с sparse матричками, давайте преобразуем DataFrame в CSR матрицы"
      ]
    },
    {
      "cell_type": "code",
      "metadata": {
        "id": "KA_CWHkmZf8Z"
      },
      "source": [
        "users = implicit_ratings[\"user_id\"]\n",
        "movies = implicit_ratings[\"movie_id\"]\n",
        "user_item = sp.coo_matrix((np.ones_like(users), (users, movies)))\n",
        "user_item_t_csr = user_item.T.tocsr()\n",
        "user_item_csr = user_item.tocsr()"
      ],
      "execution_count": 8,
      "outputs": []
    },
    {
      "cell_type": "markdown",
      "metadata": {
        "id": "mTFdCY7KZf8a"
      },
      "source": [
        "В качестве примера воспользуемся ALS разложением из библиотеки implicit\n",
        "\n",
        "Зададим размерность латентного пространства равным 64, это же определяет размер user/item эмбедингов"
      ]
    },
    {
      "cell_type": "code",
      "metadata": {
        "colab": {
          "base_uri": "https://localhost:8080/"
        },
        "id": "TWnZpMbyZf8a",
        "outputId": "0de1e6a0-6d42-49ea-a953-c62d88e05e85"
      },
      "source": [
        "model = implicit.als.AlternatingLeastSquares(factors=64, iterations=100, calculate_training_loss=True)"
      ],
      "execution_count": 9,
      "outputs": [
        {
          "output_type": "stream",
          "text": [
            "WARNING:root:OpenBLAS detected. Its highly recommend to set the environment variable 'export OPENBLAS_NUM_THREADS=1' to disable its internal multithreading\n"
          ],
          "name": "stderr"
        }
      ]
    },
    {
      "cell_type": "markdown",
      "metadata": {
        "id": "LSMtA7RLZf8b"
      },
      "source": [
        "В качестве loss здесь всеми любимый RMSE"
      ]
    },
    {
      "cell_type": "code",
      "metadata": {
        "colab": {
          "base_uri": "https://localhost:8080/",
          "height": 66,
          "referenced_widgets": [
            "1f8e9421024349c6803203ac4df641d8",
            "6745c7ba081d4c3694e30f5cb7deaf53",
            "b6bff0d2d0f84078a1b54ee75ac2cbf3",
            "cde54be3096a44e8a086bb1e438bbde0",
            "415e171f958143ce9f7b14930d2fc05f",
            "94006f396f5e433ab1e423e950ec26b0",
            "9033ee7d5c3b4e18888f5af21be9076a",
            "62709c8b3430473a8c38d546abdc7085"
          ]
        },
        "id": "y64KFh4jZf8b",
        "outputId": "a116a4eb-0961-40f5-cf55-8da7b52ab516"
      },
      "source": [
        "model.fit(user_item_t_csr)"
      ],
      "execution_count": 10,
      "outputs": [
        {
          "output_type": "display_data",
          "data": {
            "application/vnd.jupyter.widget-view+json": {
              "model_id": "1f8e9421024349c6803203ac4df641d8",
              "version_minor": 0,
              "version_major": 2
            },
            "text/plain": [
              "HBox(children=(FloatProgress(value=0.0), HTML(value='')))"
            ]
          },
          "metadata": {
            "tags": []
          }
        },
        {
          "output_type": "stream",
          "text": [
            "\n"
          ],
          "name": "stdout"
        }
      ]
    },
    {
      "cell_type": "markdown",
      "metadata": {
        "id": "oc0BftIFZf8b"
      },
      "source": [
        "Построим похожие фильмы по 1 movie_id = Истории игрушек"
      ]
    },
    {
      "cell_type": "code",
      "metadata": {
        "colab": {
          "base_uri": "https://localhost:8080/",
          "height": 189
        },
        "id": "GqGHPVXsZf8b",
        "outputId": "8558f785-100c-4ab9-d2ab-8de9b5d3887f"
      },
      "source": [
        "movie_info.head(5)"
      ],
      "execution_count": 11,
      "outputs": [
        {
          "output_type": "execute_result",
          "data": {
            "text/html": [
              "<div>\n",
              "<style scoped>\n",
              "    .dataframe tbody tr th:only-of-type {\n",
              "        vertical-align: middle;\n",
              "    }\n",
              "\n",
              "    .dataframe tbody tr th {\n",
              "        vertical-align: top;\n",
              "    }\n",
              "\n",
              "    .dataframe thead th {\n",
              "        text-align: right;\n",
              "    }\n",
              "</style>\n",
              "<table border=\"1\" class=\"dataframe\">\n",
              "  <thead>\n",
              "    <tr style=\"text-align: right;\">\n",
              "      <th></th>\n",
              "      <th>movie_id</th>\n",
              "      <th>name</th>\n",
              "      <th>category</th>\n",
              "    </tr>\n",
              "  </thead>\n",
              "  <tbody>\n",
              "    <tr>\n",
              "      <th>0</th>\n",
              "      <td>1</td>\n",
              "      <td>Toy Story (1995)</td>\n",
              "      <td>Animation|Children's|Comedy</td>\n",
              "    </tr>\n",
              "    <tr>\n",
              "      <th>1</th>\n",
              "      <td>2</td>\n",
              "      <td>Jumanji (1995)</td>\n",
              "      <td>Adventure|Children's|Fantasy</td>\n",
              "    </tr>\n",
              "    <tr>\n",
              "      <th>2</th>\n",
              "      <td>3</td>\n",
              "      <td>Grumpier Old Men (1995)</td>\n",
              "      <td>Comedy|Romance</td>\n",
              "    </tr>\n",
              "    <tr>\n",
              "      <th>3</th>\n",
              "      <td>4</td>\n",
              "      <td>Waiting to Exhale (1995)</td>\n",
              "      <td>Comedy|Drama</td>\n",
              "    </tr>\n",
              "    <tr>\n",
              "      <th>4</th>\n",
              "      <td>5</td>\n",
              "      <td>Father of the Bride Part II (1995)</td>\n",
              "      <td>Comedy</td>\n",
              "    </tr>\n",
              "  </tbody>\n",
              "</table>\n",
              "</div>"
            ],
            "text/plain": [
              "   movie_id                                name                      category\n",
              "0         1                    Toy Story (1995)   Animation|Children's|Comedy\n",
              "1         2                      Jumanji (1995)  Adventure|Children's|Fantasy\n",
              "2         3             Grumpier Old Men (1995)                Comedy|Romance\n",
              "3         4            Waiting to Exhale (1995)                  Comedy|Drama\n",
              "4         5  Father of the Bride Part II (1995)                        Comedy"
            ]
          },
          "metadata": {
            "tags": []
          },
          "execution_count": 11
        }
      ]
    },
    {
      "cell_type": "code",
      "metadata": {
        "id": "9MI8p0LXZf8c"
      },
      "source": [
        "get_similars = lambda item_id, model : [movie_info[movie_info[\"movie_id\"] == x[0]][\"name\"].to_string() \n",
        "                                        for x in model.similar_items(item_id)]"
      ],
      "execution_count": 12,
      "outputs": []
    },
    {
      "cell_type": "markdown",
      "metadata": {
        "id": "QPNk1PfIZf8c"
      },
      "source": [
        "Как мы видим, симилары действительно оказались симиларами.\n",
        "\n",
        "Качество симиларов часто является хорошим способом проверить качество алгоритмов.\n",
        "\n",
        "P.S. Если хочется поглубже разобраться в том как разные алгоритмы формируют разные латентные пространства, рекомендую загружать полученные вектора в tensorBoard и смотреть на сформированное пространство"
      ]
    },
    {
      "cell_type": "code",
      "metadata": {
        "colab": {
          "base_uri": "https://localhost:8080/"
        },
        "id": "ekV11MaSZf8c",
        "outputId": "c756f617-e08d-4483-9ee6-7f2808630067"
      },
      "source": [
        "get_similars(1, model)"
      ],
      "execution_count": 13,
      "outputs": [
        {
          "output_type": "execute_result",
          "data": {
            "text/plain": [
              "['0    Toy Story (1995)',\n",
              " '3045    Toy Story 2 (1999)',\n",
              " \"2286    Bug's Life, A (1998)\",\n",
              " '33    Babe (1995)',\n",
              " '2315    Babe: Pig in the City (1998)',\n",
              " '584    Aladdin (1992)',\n",
              " '1526    Hercules (1997)',\n",
              " '3817    Went to Coney Island on a Mission From God... ...',\n",
              " '2252    Pleasantville (1998)',\n",
              " '2692    Iron Giant, The (1999)']"
            ]
          },
          "metadata": {
            "tags": []
          },
          "execution_count": 13
        }
      ]
    },
    {
      "cell_type": "markdown",
      "metadata": {
        "id": "Oqh4XxvhZf8d"
      },
      "source": [
        "Давайте теперь построим рекомендации для юзеров\n",
        "\n",
        "Как мы видим юзеру нравится фантастика, значит и в рекомендациях ожидаем увидеть фантастику"
      ]
    },
    {
      "cell_type": "code",
      "metadata": {
        "id": "79l6RDGpZf8d"
      },
      "source": [
        "get_user_history = lambda user_id, implicit_ratings : [movie_info[movie_info[\"movie_id\"] == x][\"name\"].to_string() \n",
        "                                            for x in implicit_ratings[implicit_ratings[\"user_id\"] == user_id][\"movie_id\"]]"
      ],
      "execution_count": 14,
      "outputs": []
    },
    {
      "cell_type": "code",
      "metadata": {
        "colab": {
          "base_uri": "https://localhost:8080/"
        },
        "id": "fcXRbnojZf8d",
        "outputId": "cf2d2873-83f1-4fa3-860a-5079488a3e2a"
      },
      "source": [
        "get_user_history(4, implicit_ratings)"
      ],
      "execution_count": 15,
      "outputs": [
        {
          "output_type": "execute_result",
          "data": {
            "text/plain": [
              "['3399    Hustler, The (1961)',\n",
              " '2882    Fistful of Dollars, A (1964)',\n",
              " '1196    Alien (1979)',\n",
              " '1023    Die Hard (1988)',\n",
              " '257    Star Wars: Episode IV - A New Hope (1977)',\n",
              " '1959    Saving Private Ryan (1998)',\n",
              " '476    Jurassic Park (1993)',\n",
              " '1180    Raiders of the Lost Ark (1981)',\n",
              " '1885    Rocky (1976)',\n",
              " '1081    E.T. the Extra-Terrestrial (1982)',\n",
              " '3349    Thelma & Louise (1991)',\n",
              " '3633    Mad Max (1979)',\n",
              " '2297    King Kong (1933)',\n",
              " '1366    Jaws (1975)',\n",
              " '1183    Good, The Bad and The Ugly, The (1966)',\n",
              " '2623    Run Lola Run (Lola rennt) (1998)',\n",
              " '2878    Goldfinger (1964)',\n",
              " '1220    Terminator, The (1984)']"
            ]
          },
          "metadata": {
            "tags": []
          },
          "execution_count": 15
        }
      ]
    },
    {
      "cell_type": "markdown",
      "metadata": {
        "id": "WcbX7I2QZf8e"
      },
      "source": [
        "Получилось! \n",
        "\n",
        "Мы действительно порекомендовали пользователю фантастику и боевики, более того встречаются продолжения тех фильмов, которые он высоко оценил"
      ]
    },
    {
      "cell_type": "code",
      "metadata": {
        "id": "4FHJjHAnZf8e"
      },
      "source": [
        "get_recommendations = lambda user_id, model : [movie_info[movie_info[\"movie_id\"] == x[0]][\"name\"].to_string() \n",
        "                                               for x in model.recommend(user_id, user_item_csr)]"
      ],
      "execution_count": 16,
      "outputs": []
    },
    {
      "cell_type": "code",
      "metadata": {
        "colab": {
          "base_uri": "https://localhost:8080/"
        },
        "id": "cSer0ajHZf8e",
        "outputId": "659e22d7-1469-4364-97df-67c8d18f2e61"
      },
      "source": [
        "get_recommendations(4, model)"
      ],
      "execution_count": 17,
      "outputs": [
        {
          "output_type": "execute_result",
          "data": {
            "text/plain": [
              "['585    Terminator 2: Judgment Day (1991)',\n",
              " '1271    Indiana Jones and the Last Crusade (1989)',\n",
              " '1284    Butch Cassidy and the Sundance Kid (1969)',\n",
              " '1182    Aliens (1986)',\n",
              " '1178    Star Wars: Episode V - The Empire Strikes Back...',\n",
              " '2502    Matrix, The (1999)',\n",
              " '1884    French Connection, The (1971)',\n",
              " '1892    Rain Man (1988)',\n",
              " '957    African Queen, The (1951)',\n",
              " '3458    Predator (1987)']"
            ]
          },
          "metadata": {
            "tags": []
          },
          "execution_count": 17
        }
      ]
    },
    {
      "cell_type": "markdown",
      "metadata": {
        "id": "QaqLV-VMZf8f"
      },
      "source": [
        "Теперь ваша очередь реализовать самые популярные алгоритмы матричных разложений\n",
        "\n",
        "Что будет оцениваться:\n",
        "1. Корректность алгоритма\n",
        "2. Качество получившихся симиларов\n",
        "3. Качество итоговых рекомендаций для юзера"
      ]
    },
    {
      "cell_type": "code",
      "metadata": {
        "id": "TH4T_Kor86eG"
      },
      "source": [
        "from sklearn.neighbors import NearestNeighbors"
      ],
      "execution_count": 18,
      "outputs": []
    },
    {
      "cell_type": "code",
      "metadata": {
        "id": "Pkie_NkUxiEz"
      },
      "source": [
        "user_number = np.max(ratings['user_id'])\n",
        "item_number = np.max(ratings['movie_id'])"
      ],
      "execution_count": 19,
      "outputs": []
    },
    {
      "cell_type": "code",
      "metadata": {
        "id": "3ePZ7B1EH4q-"
      },
      "source": [
        "# Делит фильмы на просмотренные и не просмотренные для конкретного юзера\n",
        "def get_un_watched(user_id):\n",
        "  watched = [i for i in ratings[ratings[\"user_id\"] == user_id][\"movie_id\"]]\n",
        "  unwatched = [i for i in movie_info['movie_id'].unique() if i not in watched]\n",
        "  return unwatched, watched"
      ],
      "execution_count": 20,
      "outputs": []
    },
    {
      "cell_type": "code",
      "metadata": {
        "id": "_4llSs0xQweB"
      },
      "source": [
        "# Путь до папки с весами\n",
        "dir_name = '.'"
      ],
      "execution_count": null,
      "outputs": []
    },
    {
      "cell_type": "markdown",
      "metadata": {
        "id": "Sv9DSWsdZf8f"
      },
      "source": [
        "### Задание 1. Не использую готовые решения, реализовать SVD разложение используя SGD на explicit данных"
      ]
    },
    {
      "cell_type": "code",
      "metadata": {
        "id": "43ytESWCZf8f"
      },
      "source": [
        "class SGD:\n",
        "  def __init__(self, user_number, item_number, lr=0.01, hidden_size=64, l2=0.01):\n",
        "    self.user_number = user_number\n",
        "    self.item_number = item_number\n",
        "    \n",
        "    self.lr = lr\n",
        "    self.hidden_size = hidden_size\n",
        "    self.l2 = l2\n",
        "    max_value = 1 / np.sqrt(self.hidden_size)\n",
        "    self.user = np.zeros((user_number, 1))\n",
        "    self.W = np.random.uniform(0, max_value, (user_number, self.hidden_size))\n",
        "    self.H = np.random.uniform(0, max_value, (item_number, self.hidden_size)).T\n",
        "    self.item = np.zeros((item_number, 1)).T\n",
        "\n",
        "  def fit(self, data, epoch):\n",
        "    mean = data['rating'].mean()\n",
        "    for epoch_num in range(epoch):\n",
        "      random_idx = np.random.randint(len(data))\n",
        "      data_at_idx = data.iloc[random_idx]\n",
        "      i, j = data_at_idx['user_id'], data_at_idx['movie_id']\n",
        "      i -= 1\n",
        "      j -= 1\n",
        "      rating_diff = mean - data_at_idx['rating']\n",
        "      u_vec = self.W[i]\n",
        "      i_vec = self.H[:, j]\n",
        "      result = np.matmul(u_vec, i_vec)\n",
        "      now_user = self.user[i]\n",
        "      now_item = self.item[:, j]\n",
        "      error = result + now_user + now_item + rating_diff\n",
        "      error *= 2\n",
        "      if epoch_num % (epoch / 10) == 0:\n",
        "        print(self.rmse(data))\n",
        "      self.W[i] *= (1 - self.lr * self.l2)\n",
        "      self.H[:, j] *= (1 - self.lr * self.l2)\n",
        "      self.user[i] *= (1 - self.lr * self.l2)\n",
        "      self.item[:, j] *= (1 - self.lr * self.l2)\n",
        "      self.W[i] -= self.lr * error * i_vec.T\n",
        "      self.H[:, j] -= self.lr * error * u_vec.T\n",
        "      self.user[i] -= self.lr * error\n",
        "      self.item[:, j] -= self.lr * error\n",
        "\n",
        "  def rmse(self, data):\n",
        "    result_predicted = np.matmul(self.W, self.H)\n",
        "    result_predicted += self.item + self.user \n",
        "    result_predicted += data['rating'].mean()\n",
        "    users = data['user_id'] - 1\n",
        "    items = data['movie_id'] - 1\n",
        "    raiting_true = data['rating']\n",
        "    return np.linalg.norm(result_predicted[users, items] - raiting_true) / len(data)\n",
        "\n",
        "  def save_weights(self, path):\n",
        "    np.save(os.path.join(path, \"W\"), self.W)\n",
        "    np.save(os.path.join(path, \"H\"), self.H)\n",
        "\n",
        "  def save_biases(self, path):\n",
        "    np.save(os.path.join(path, \"U\"), self.user)\n",
        "    np.save(os.path.join(path, \"I\"), self.item)\n",
        "\n",
        "  def save_model(self, path):\n",
        "    try: \n",
        "      os.mkdir(path)\n",
        "    except OSError as error: \n",
        "      pass\n",
        "    self.save_weights(path)\n",
        "    self.save_biases(path)\n",
        "  \n",
        "  def load_weights(self, path):\n",
        "    self.W = np.load(os.path.join(path, \"W.npy\"))\n",
        "    self.H = np.load(os.path.join(path, \"H.npy\"))\n",
        "\n",
        "  def load_biases(self, path):\n",
        "    self.user = np.load(os.path.join(path, \"U.npy\"))\n",
        "    self.item = np.load(os.path.join(path, \"I.npy\"))\n",
        "  \n",
        "  def load_model(self, path):\n",
        "    self.load_weights(path)\n",
        "    self.load_biases(path)\n",
        "\n",
        "  def get_info(self, info, size, preds_list):\n",
        "    return [info[info[\"movie_id\"] == i[0]][\"name\"].to_string() for i in preds_list if i[0] in set(movie_info[\"movie_id\"])][:size]\n",
        "\n",
        "  def recommend(self, user_id, info, size=10):\n",
        "    unwatched, _ = get_un_watched(user_id)\n",
        "    user_info = np.matmul(self.W, self.H)[user_id - 1]\n",
        "    user_info += self.item.squeeze(0)\n",
        "    unwatched.sort(key = lambda i: user_info[i - 1], reverse = True)\n",
        "    return self.get_info(info, size, zip(unwatched[:size], user_info[unwatched[:size]]))\n",
        "\n",
        "  def similar_items(self, item, info, size=10):\n",
        "    model = NearestNeighbors(n_neighbors=item_number, metric='cosine')\n",
        "    vector_item = self.H.T[item - 1].reshape(1, -1)\n",
        "    dist, idx = model.fit(self.H.T).kneighbors(vector_item)\n",
        "    return self.get_info(info, size, zip(idx[0] + 1, dist[0]))"
      ],
      "execution_count": 21,
      "outputs": []
    },
    {
      "cell_type": "code",
      "metadata": {
        "id": "VSi_XLM0ssjd"
      },
      "source": [
        "sgd = SGD(user_number, item_number)"
      ],
      "execution_count": 22,
      "outputs": []
    },
    {
      "cell_type": "code",
      "metadata": {
        "id": "z6fMF7Jls7d6"
      },
      "source": [
        "#sgd.fit(ratings, 3000000)\n",
        "sgd.load_model(os.path.join(dir_name, \"weights\", \"SGD\"))"
      ],
      "execution_count": 23,
      "outputs": []
    },
    {
      "cell_type": "code",
      "metadata": {
        "colab": {
          "base_uri": "https://localhost:8080/"
        },
        "id": "Jj2_b_E4Ulbn",
        "outputId": "c60ed1e8-834b-4d45-e3c3-ff650000537e"
      },
      "source": [
        "sgd.similar_items(1, movie_info)"
      ],
      "execution_count": 27,
      "outputs": [
        {
          "output_type": "execute_result",
          "data": {
            "text/plain": [
              "['0    Toy Story (1995)',\n",
              " '3045    Toy Story 2 (1999)',\n",
              " '817    Adventures of Pinocchio, The (1996)',\n",
              " '1015    Mary Poppins (1964)',\n",
              " '584    Aladdin (1992)',\n",
              " '1988    Incredible Journey, The (1963)',\n",
              " '2027    Sleeping Beauty (1959)',\n",
              " '591    Beauty and the Beast (1991)',\n",
              " '2012    Little Mermaid, The (1989)',\n",
              " \"2286    Bug's Life, A (1998)\"]"
            ]
          },
          "metadata": {
            "tags": []
          },
          "execution_count": 27
        }
      ]
    },
    {
      "cell_type": "code",
      "metadata": {
        "colab": {
          "base_uri": "https://localhost:8080/"
        },
        "id": "qu16RoxXzsms",
        "outputId": "b31e38a8-5cf3-4498-c0d2-2135efc55c1f"
      },
      "source": [
        "sgd.recommend(4, movie_info)"
      ],
      "execution_count": 26,
      "outputs": [
        {
          "output_type": "execute_result",
          "data": {
            "text/plain": [
              "[\"523    Schindler's List (1993)\",\n",
              " '847    Godfather, The (1972)',\n",
              " '1950    Seven Samurai (The Magnificent Seven) (Shichin...',\n",
              " '2836    Sanjuro (1962)',\n",
              " '315    Shawshank Redemption, The (1994)',\n",
              " '896    North by Northwest (1959)',\n",
              " '589    Silence of the Lambs, The (1991)',\n",
              " '892    Rear Window (1954)',\n",
              " '1195    GoodFellas (1990)',\n",
              " '1575    L.A. Confidential (1997)']"
            ]
          },
          "metadata": {
            "tags": []
          },
          "execution_count": 26
        }
      ]
    },
    {
      "cell_type": "markdown",
      "metadata": {
        "id": "nGuBCgYMZf8f"
      },
      "source": [
        "### Задание 2. Не использую готовые решения, реализовать матричное разложение используя ALS на implicit данных"
      ]
    },
    {
      "cell_type": "code",
      "metadata": {
        "id": "YRAmMEKUZf8f"
      },
      "source": [
        "class ALS(SGD):\n",
        "  def __init__(self, user_number, item_number, lr=40, hidden_size=64, l1=0.01):\n",
        "    self.l1 = l1\n",
        "    super().__init__(user_number, item_number, lr, hidden_size)\n",
        "\n",
        "  def fit(self, data, epoch):\n",
        "    lambda_I = np.identity(self.hidden_size) * self.l1\n",
        "    users = data[\"user_id\"] - 1\n",
        "    movies = data[\"movie_id\"] - 1\n",
        "    p = np.array(sp.coo_matrix((np.ones_like(users), (users, movies))).toarray()).astype(float)\n",
        "    C = p * self.lr + 1\n",
        "    for epoch_num in range(epoch):\n",
        "      if epoch_num % 2 == 0:\n",
        "        for i in range(self.user_number):\n",
        "          inversed = np.linalg.inv(np.matmul(self.H * C[i], self.H.T) + lambda_I)\n",
        "          self.W[i] = np.matmul(np.matmul(inversed, self.H * C[i]), p[i])\n",
        "      else:\n",
        "        for i in range(self.item_number):\n",
        "          inversed = np.linalg.inv(np.matmul(self.W.T * C[:, i], self.W) + lambda_I)\n",
        "          self.H[:, i] = np.matmul(np.matmul(inversed, self.W.T * C[:, i]), p[:, i])\n",
        "      if epoch_num % (epoch / 10) == 0:\n",
        "        print(self.rmse(data))\n",
        "\n",
        "  def load_model(self, path):\n",
        "    self.load_weights(path)\n",
        "\n",
        "  def save_model(self, path):\n",
        "    try: \n",
        "      os.mkdir(path)\n",
        "    except OSError as error: \n",
        "      pass\n",
        "    self.save_weights(path)\n",
        "\n",
        "  def rmse(self, data):\n",
        "    result_predicted = np.matmul(self.W, self.H)\n",
        "    users = data['user_id'] - 1\n",
        "    items = data['movie_id'] - 1\n",
        "    raiting_true = data['rating']\n",
        "    return np.linalg.norm(result_predicted[users, items] - raiting_true) / len(data)\n"
      ],
      "execution_count": 28,
      "outputs": []
    },
    {
      "cell_type": "code",
      "metadata": {
        "id": "GU1ssKvS_Arq"
      },
      "source": [
        "als = ALS(user_number, item_number)"
      ],
      "execution_count": 29,
      "outputs": []
    },
    {
      "cell_type": "code",
      "metadata": {
        "id": "J9RjQPwI_A3g"
      },
      "source": [
        "#als.fit(implicit_ratings, 10)\n",
        "als.load_model(os.path.join(dir_name, \"weights\", \"ALS\"))"
      ],
      "execution_count": 30,
      "outputs": []
    },
    {
      "cell_type": "code",
      "metadata": {
        "id": "ieDIJlPBDuYB",
        "colab": {
          "base_uri": "https://localhost:8080/"
        },
        "outputId": "6bed7233-568c-4d3f-8bad-0d42b4b99a03"
      },
      "source": [
        "als.similar_items(1, movie_info)"
      ],
      "execution_count": 31,
      "outputs": [
        {
          "output_type": "execute_result",
          "data": {
            "text/plain": [
              "['0    Toy Story (1995)',\n",
              " '1245    Groundhog Day (1993)',\n",
              " '3045    Toy Story 2 (1999)',\n",
              " '2327    Shakespeare in Love (1998)',\n",
              " '33    Babe (1995)',\n",
              " '315    Shawshank Redemption, The (1994)',\n",
              " '1959    Saving Private Ryan (1998)',\n",
              " '1250    Back to the Future (1985)',\n",
              " '2789    American Beauty (1999)',\n",
              " '2693    Sixth Sense, The (1999)']"
            ]
          },
          "metadata": {
            "tags": []
          },
          "execution_count": 31
        }
      ]
    },
    {
      "cell_type": "code",
      "metadata": {
        "id": "9IU15KIlDw4G",
        "colab": {
          "base_uri": "https://localhost:8080/"
        },
        "outputId": "8fce5100-a8fb-4af9-8b3d-28f7a856b111"
      },
      "source": [
        "als.recommend(4, movie_info)"
      ],
      "execution_count": 32,
      "outputs": [
        {
          "output_type": "execute_result",
          "data": {
            "text/plain": [
              "['585    Terminator 2: Judgment Day (1991)',\n",
              " '2502    Matrix, The (1999)',\n",
              " '1182    Aliens (1986)',\n",
              " '847    Godfather, The (1972)',\n",
              " '1271    Indiana Jones and the Last Crusade (1989)',\n",
              " '108    Braveheart (1995)',\n",
              " '453    Fugitive, The (1993)',\n",
              " '1203    Godfather: Part II, The (1974)',\n",
              " '1284    Butch Cassidy and the Sundance Kid (1969)',\n",
              " '1179    Princess Bride, The (1987)']"
            ]
          },
          "metadata": {
            "tags": []
          },
          "execution_count": 32
        }
      ]
    },
    {
      "cell_type": "markdown",
      "metadata": {
        "id": "KrLV1si2Zf8f"
      },
      "source": [
        "### Задание 3. Не использую готовые решения, реализовать матричное разложение BPR на implicit данных"
      ]
    },
    {
      "cell_type": "code",
      "metadata": {
        "id": "njTiHNc7Zf8f"
      },
      "source": [
        "def sigmoid(x, vector):\n",
        "  e = np.exp(-x)\n",
        "  return e / (1 + e) * vector\n",
        "\n",
        "class BPR(ALS):\n",
        "  def __init__(self, user_number, item_number, lr=0.01, hidden_size=128, sampling_size=20, l2 = 0.01):\n",
        "    super().__init__(user_number, item_number, lr, hidden_size, l2)\n",
        "    self.sampling_size = sampling_size\n",
        "    \n",
        "  def fit(self, data, epoch_number):\n",
        "    not_used_items = {}\n",
        "    used_items = {}\n",
        "    unique_mapped_ids = data[\"user_id\"].unique() - 1\n",
        "    for i in range(user_number):\n",
        "      not_used_items[i], used_items[i] = get_un_watched(i + 1)\n",
        "    for epoch in range(epoch_number):\n",
        "      epoch_loss = 0\n",
        "      for i in unique_mapped_ids:\n",
        "        for j in used_items[i]:\n",
        "          sampling_negative = np.random.choice(not_used_items[i], self.sampling_size)\n",
        "          j -= 1\n",
        "          sampling_negative -= 1\n",
        "          delta = np.matmul(self.W[i], self.H[:, j]) - np.matmul(self.W[i], self.H[:, sampling_negative])\n",
        "          self.W[i] *= (1 - self.lr * self.l2)\n",
        "          self.H[:, j] *= (1 - self.lr * self.l2)\n",
        "          self.H[:, sampling_negative] *= (1 - self.lr * self.l2)\n",
        "          self.W[i] += self.lr * sigmoid(delta, self.H[:, j].reshape(-1,1) - self.H[:, sampling_negative]).sum(axis=1)\n",
        "          self.H[:, j] += self.lr * sigmoid(delta, self.W[i].reshape(-1,1)).sum(axis=1)\n",
        "          self.H[:, sampling_negative] -= self.lr * sigmoid(delta, self.W[i].reshape(-1,1))\n",
        "          size = len(sampling_negative)\n",
        "          epoch_loss += np.array(np.log(1 + np.exp(-delta)) / size).sum()\n",
        "      print(\"epoch loss: \", epoch_loss / len(unique_mapped_ids))\n"
      ],
      "execution_count": 33,
      "outputs": []
    },
    {
      "cell_type": "code",
      "metadata": {
        "id": "jqv-_3_OvgLa"
      },
      "source": [
        "bpr = BPR(user_number, item_number)"
      ],
      "execution_count": 34,
      "outputs": []
    },
    {
      "cell_type": "code",
      "metadata": {
        "id": "m1v_sELdvnK-"
      },
      "source": [
        "#bpr.fit(implicit_ratings, 1) #7\n",
        "bpr.load_model(os.path.join(dir_name, \"weights\", \"BPR\"))"
      ],
      "execution_count": 35,
      "outputs": []
    },
    {
      "cell_type": "code",
      "metadata": {
        "colab": {
          "base_uri": "https://localhost:8080/"
        },
        "id": "mkWFTVxioWfq",
        "outputId": "48ae1e3b-7ad5-463a-8b25-0e1522a8405c"
      },
      "source": [
        "bpr.similar_items(1, movie_info)"
      ],
      "execution_count": 36,
      "outputs": [
        {
          "output_type": "execute_result",
          "data": {
            "text/plain": [
              "['0    Toy Story (1995)',\n",
              " '3045    Toy Story 2 (1999)',\n",
              " \"2286    Bug's Life, A (1998)\",\n",
              " '33    Babe (1995)',\n",
              " '1245    Groundhog Day (1993)',\n",
              " '584    Aladdin (1992)',\n",
              " \"1854    There's Something About Mary (1998)\",\n",
              " '2327    Shakespeare in Love (1998)',\n",
              " '547    Nightmare Before Christmas, The (1993)',\n",
              " '315    Shawshank Redemption, The (1994)']"
            ]
          },
          "metadata": {
            "tags": []
          },
          "execution_count": 36
        }
      ]
    },
    {
      "cell_type": "code",
      "metadata": {
        "id": "7eRrChIUbyB4",
        "outputId": "fea9d6c8-d9df-4089-f2f6-eeb8c004d1aa",
        "colab": {
          "base_uri": "https://localhost:8080/"
        }
      },
      "source": [
        "bpr.recommend(4, movie_info)"
      ],
      "execution_count": 37,
      "outputs": [
        {
          "output_type": "execute_result",
          "data": {
            "text/plain": [
              "['847    Godfather, The (1972)',\n",
              " '585    Terminator 2: Judgment Day (1991)',\n",
              " '1182    Aliens (1986)',\n",
              " '2502    Matrix, The (1999)',\n",
              " '1203    Godfather: Part II, The (1974)',\n",
              " '604    Fargo (1996)',\n",
              " '589    Silence of the Lambs, The (1991)',\n",
              " '1271    Indiana Jones and the Last Crusade (1989)',\n",
              " '108    Braveheart (1995)',\n",
              " '2693    Sixth Sense, The (1999)']"
            ]
          },
          "metadata": {
            "tags": []
          },
          "execution_count": 37
        }
      ]
    },
    {
      "cell_type": "markdown",
      "metadata": {
        "id": "unVe5V5gZf8g"
      },
      "source": [
        "### Задание 4. Не использую готовые решения, реализовать матричное разложение WARP на implicit данных"
      ]
    },
    {
      "cell_type": "code",
      "metadata": {
        "id": "6hW64njKZf8g"
      },
      "source": [
        "class WARP(ALS):\n",
        "  def __init__(self, user_number, item_number, lr=0.01, hidden_size=128, sampling_size=5, l2 = 0.1):\n",
        "    super().__init__(user_number, item_number, lr, hidden_size, l2)\n",
        "    self.sampling_size = sampling_size\n",
        "    \n",
        "  def fit(self, data, epoch_number):\n",
        "    not_used_items = {}\n",
        "    used_items = {}\n",
        "    unique_mapped_ids = data[\"user_id\"].unique() - 1\n",
        "    for i in range(user_number):\n",
        "      not_used_items[i], used_items[i] = get_un_watched(i + 1)\n",
        "    for epoch in range(epoch_number):\n",
        "      epoch_loss = 0\n",
        "      for i in unique_mapped_ids:\n",
        "        for j in used_items[i]:\n",
        "          j -= 1\n",
        "          sampling_negative = np.random.choice(not_used_items[i], self.sampling_size)\n",
        "          sampling_negative -= 1\n",
        "          mul_biased = np.matmul(self.W[i], self.H[:, j])\n",
        "          for q, k in enumerate(sampling_negative):\n",
        "            delta = mul_biased - np.matmul(self.W[i], self.H[:, k])\n",
        "            if 1 > delta:\n",
        "              prod = np.log(self.sampling_size / (q + 1))\n",
        "              self.W[i] *= (1 - self.lr * self.l2)\n",
        "              self.H[:, j] *= (1 - self.lr * self.l2)\n",
        "              self.H[:, k] *= (1 - self.lr * self.l2)\n",
        "              self.W[i] -= self.lr * prod * (self.H[:, k] - self.H[:, j])\n",
        "              self.H[:, j] += self.lr * prod * self.W[i]\n",
        "              self.H[:, k] -= self.lr * prod * self.W[i]\n",
        "              epoch_loss += prod\n",
        "      print(\"epoch loss: \", epoch_loss / len(unique_mapped_ids))\n"
      ],
      "execution_count": 38,
      "outputs": []
    },
    {
      "cell_type": "code",
      "metadata": {
        "id": "McjqZXFx6iqg"
      },
      "source": [
        "warp = WARP(user_number, item_number)"
      ],
      "execution_count": 39,
      "outputs": []
    },
    {
      "cell_type": "code",
      "metadata": {
        "id": "T6e31y7vr0sK",
        "outputId": "dbb987c8-2b5e-463b-b3e6-eb11406dffa8",
        "colab": {
          "base_uri": "https://localhost:8080/"
        }
      },
      "source": [
        "#warp.fit(implicit_ratings, 40)\n",
        "warp.load_model(os.path.join(dir_name, \"weights\", \"WARP\"))"
      ],
      "execution_count": 294,
      "outputs": [
        {
          "output_type": "stream",
          "text": [
            "epoch loss:  40.15938407230962\n",
            "epoch loss:  38.93994446972263\n",
            "epoch loss:  37.734790724545164\n",
            "epoch loss:  36.572683114687024\n",
            "epoch loss:  35.760396619326805\n",
            "epoch loss:  34.858443894736766\n",
            "epoch loss:  34.19657930123258\n",
            "epoch loss:  33.53754626255669\n",
            "epoch loss:  32.70561362178007\n",
            "epoch loss:  32.191549023724015\n",
            "epoch loss:  31.61486355086118\n",
            "epoch loss:  31.13515205248801\n",
            "epoch loss:  30.650099213899455\n",
            "epoch loss:  30.190501330486267\n",
            "epoch loss:  29.80177523582929\n",
            "epoch loss:  29.39441797214002\n",
            "epoch loss:  28.970437325732625\n",
            "epoch loss:  28.722402534925685\n",
            "epoch loss:  28.418993868463712\n",
            "epoch loss:  27.936011561275276\n"
          ],
          "name": "stdout"
        }
      ]
    },
    {
      "cell_type": "code",
      "metadata": {
        "id": "_9sbeVWir2kX",
        "outputId": "d6b647a1-12d0-4658-dfb5-86e82b5ab171",
        "colab": {
          "base_uri": "https://localhost:8080/"
        }
      },
      "source": [
        "warp.similar_items(1, movie_info)"
      ],
      "execution_count": 41,
      "outputs": [
        {
          "output_type": "execute_result",
          "data": {
            "text/plain": [
              "['0    Toy Story (1995)',\n",
              " '3045    Toy Story 2 (1999)',\n",
              " '584    Aladdin (1992)',\n",
              " \"2286    Bug's Life, A (1998)\",\n",
              " '33    Babe (1995)',\n",
              " '1245    Groundhog Day (1993)',\n",
              " '2252    Pleasantville (1998)',\n",
              " '591    Beauty and the Beast (1991)',\n",
              " '2502    Matrix, The (1999)',\n",
              " '315    Shawshank Redemption, The (1994)']"
            ]
          },
          "metadata": {
            "tags": []
          },
          "execution_count": 41
        }
      ]
    },
    {
      "cell_type": "code",
      "metadata": {
        "id": "JolGIsQZr5U-",
        "outputId": "9958e645-8db3-472c-cbfe-2eb3449dce36",
        "colab": {
          "base_uri": "https://localhost:8080/"
        }
      },
      "source": [
        "warp.recommend(4, movie_info)"
      ],
      "execution_count": 42,
      "outputs": [
        {
          "output_type": "execute_result",
          "data": {
            "text/plain": [
              "['847    Godfather, The (1972)',\n",
              " '585    Terminator 2: Judgment Day (1991)',\n",
              " '1203    Godfather: Part II, The (1974)',\n",
              " '2847    Total Recall (1990)',\n",
              " '1884    French Connection, The (1971)',\n",
              " '2502    Matrix, The (1999)',\n",
              " '453    Fugitive, The (1993)',\n",
              " '1284    Butch Cassidy and the Sundance Kid (1969)',\n",
              " '1182    Aliens (1986)',\n",
              " '1568    Hunt for Red October, The (1990)']"
            ]
          },
          "metadata": {
            "tags": []
          },
          "execution_count": 42
        }
      ]
    }
  ]
}